{
 "cells": [
  {
   "cell_type": "code",
   "execution_count": 1,
   "metadata": {},
   "outputs": [],
   "source": [
    "import numpy as np\n",
    "import pandas as pd\n",
    "import matplotlib.pyplot as plt\n",
    "%matplotlib inline"
   ]
  },
  {
   "cell_type": "code",
   "execution_count": 2,
   "metadata": {},
   "outputs": [],
   "source": [
    "### Data managment\n",
    "## input\n",
    "df = pd.read_csv(\"data/train.csv\")\n",
    "\n",
    "## grouping into int categories\n",
    "df[\"Sex\"] = df[\"Sex\"].replace({\"male\":0, \"female\":1})\n",
    "df[\"Embarked\"] = df[\"Embarked\"].replace({'C':0, 'S':1, 'Q':2})\n",
    "df[\"Cabin\"] = df[\"Cabin\"].apply(lambda x: 0 if x is np.nan else 1)\n",
    "\n",
    "## handling names\n",
    "title_dict = {\"Mr.\":1, \"Mrs.\":2, \"Mme.\":2, \"Miss.\":3, \"Mlle.\":3, \"Master.\":4, \"Dr.\":5, \"Rev.\": 6}\n",
    "\n",
    "def name_lookup(name_str):\n",
    "    for word in name_str.split():\n",
    "        if word in title_dict.keys():\n",
    "            return title_dict[word]\n",
    "    return 0\n",
    "\n",
    "df[\"Name\"] = df[\"Name\"].apply(name_lookup)\n",
    "        \n",
    "## handling nans\n",
    "df[\"Age\"] = df[\"Age\"].fillna(df[\"Age\"].median())\n",
    "df[\"Embarked\"] = df[\"Embarked\"].fillna(df[\"Embarked\"].mode().iloc[0])\n",
    "\n",
    "## get dummies\n",
    "features = [\"Pclass\", \"Name\"]\n",
    "for f in features:\n",
    "    df = pd.concat([df.drop(columns=f), pd.get_dummies(df[f], prefix=f)], axis=1)\n",
    "\n",
    "## creating input and output dataframes\n",
    "yf = df[\"Survived\"]\n",
    "Xf = df.drop(columns=[\"PassengerId\", \"Survived\", \"Ticket\"])\n",
    "\n",
    "## normalizing\n",
    "features = [\"Age\", \"Fare\"]\n",
    "Xf[features] = (Xf[features] - Xf[features].mean()) / Xf[features].std()"
   ]
  },
  {
   "cell_type": "code",
   "execution_count": 3,
   "metadata": {},
   "outputs": [
    {
     "name": "stdout",
     "output_type": "stream",
     "text": [
      "#################################################################################################### 100%\r"
     ]
    }
   ],
   "source": [
    "## Logistic regression calculation\n",
    "from sklearn.linear_model import LogisticRegression\n",
    "from sklearn.metrics import accuracy_score, f1_score\n",
    "from sklearn.model_selection import train_test_split\n",
    "clf_logReg = LogisticRegression(solver='newton-cg', multi_class='multinomial')\n",
    "\n",
    "frac_train = 0.75\n",
    "m, n = Xf.shape\n",
    "frac_tot_arr = np.linspace(0.05, 1, 401)\n",
    "score_train_arr_logReg, score_test_arr_logReg = [], []\n",
    "for frac_tot in frac_tot_arr:\n",
    "    print(\"#\"*int(100*frac_tot), \"{0:.0f}%\".format(100*frac_tot), end='\\r')\n",
    "    # randomly choosing samples and splitting into train and test\n",
    "    Xnp_train, Xnp_test, ynp_train, ynp_test = \\\n",
    "        train_test_split(Xf, yf, test_size=frac_tot*(1-frac_train), train_size=frac_tot*frac_train)\n",
    "    # training\n",
    "    clf_logReg = clf_logReg.fit(Xnp_train, ynp_train)\n",
    "    # evaluating\n",
    "    score_train_arr_logReg.append(accuracy_score(clf_logReg.predict(Xnp_train), ynp_train))\n",
    "    score_test_arr_logReg.append(accuracy_score(clf_logReg.predict(Xnp_test), ynp_test))"
   ]
  },
  {
   "cell_type": "code",
   "execution_count": 4,
   "metadata": {},
   "outputs": [
    {
     "name": "stdout",
     "output_type": "stream",
     "text": [
      "Final accuracy for logistic regression 0.8609865470852018\n"
     ]
    }
   ],
   "source": [
    "## Logistic regression plotting\n",
    "fig, fax = plt.subplots()\n",
    "fax.plot(frac_tot_arr, score_train_arr_logReg, label=\"train\")\n",
    "fax.plot(frac_tot_arr, score_test_arr_logReg, label=\"test\")\n",
    "plt.legend()\n",
    "plt.show()\n",
    "print(\"Final accuracy for logistic regression\", accuracy_score(clf_logReg.predict(Xnp_test), ynp_test))"
   ]
  },
  {
   "cell_type": "code",
   "execution_count": null,
   "metadata": {},
   "outputs": [],
   "source": []
  }
 ],
 "metadata": {
  "kernelspec": {
   "display_name": "Python (norm)",
   "language": "python",
   "name": "norm"
  },
  "language_info": {
   "codemirror_mode": {
    "name": "ipython",
    "version": 3
   },
   "file_extension": ".py",
   "mimetype": "text/x-python",
   "name": "python",
   "nbconvert_exporter": "python",
   "pygments_lexer": "ipython3",
   "version": "3.7.1"
  }
 },
 "nbformat": 4,
 "nbformat_minor": 2
}
