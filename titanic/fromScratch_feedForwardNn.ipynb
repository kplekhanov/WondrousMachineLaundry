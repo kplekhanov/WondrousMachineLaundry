{
 "cells": [
  {
   "cell_type": "code",
   "execution_count": 26,
   "metadata": {},
   "outputs": [],
   "source": [
    "import numpy as np\n",
    "import pandas as pd\n",
    "import matplotlib.pyplot as plt\n",
    "%matplotlib inline\n",
    "from copy import deepcopy"
   ]
  },
  {
   "cell_type": "code",
   "execution_count": 27,
   "metadata": {},
   "outputs": [
    {
     "name": "stdout",
     "output_type": "stream",
     "text": [
      "   Pclass  Name  Sex       Age  SibSp  Parch      Fare  Cabin  Embarked\n",
      "0       3     1    0 -0.565419      1      0 -0.502163      0       1.0\n",
      "1       1     2    1  0.663488      1      0  0.786404      1       0.0\n",
      "2       3     3    1 -0.258192      0      0 -0.488580      0       1.0\n",
      "3       1     2    1  0.433068      1      0  0.420494      1       1.0\n",
      "4       3     1    0  0.433068      0      0 -0.486064      0       1.0\n"
     ]
    }
   ],
   "source": [
    "### Data managment\n",
    "## input\n",
    "df = pd.read_csv(\"data/train.csv\")\n",
    "\n",
    "## grouping into int categories\n",
    "df[\"Sex\"] = df[\"Sex\"].replace({\"male\":0, \"female\":1})\n",
    "df[\"Embarked\"] = df[\"Embarked\"].replace({'C':0, 'S':1, 'Q':2})\n",
    "df[\"Cabin\"] = df[\"Cabin\"].apply(lambda x: 0 if x is np.nan else 1)\n",
    "\n",
    "## handling names\n",
    "title_dict = {\"Mr.\":1, \"Mrs.\":2, \"Mme.\":2, \"Miss.\":3, \"Mlle.\":3, \"Master.\":4, \"Dr.\":5, \"Rev.\": 6}\n",
    "\n",
    "def name_lookup(name_str):\n",
    "    for word in name_str.split():\n",
    "        if word in title_dict.keys():\n",
    "            return title_dict[word]\n",
    "    return 0\n",
    "\n",
    "df[\"Name\"] = df[\"Name\"].apply(name_lookup)\n",
    "\n",
    "## handling nans\n",
    "df[\"Age\"] = df[\"Age\"].fillna(df[\"Age\"].median())\n",
    "df[\"Embarked\"] = df[\"Embarked\"].fillna(df[\"Embarked\"].mode().iloc[0])\n",
    "\n",
    "## creating input and output dataframes\n",
    "yf = df[\"Survived\"]\n",
    "xf = df.drop(columns=[\"PassengerId\", \"Survived\", \"Ticket\"])\n",
    "\n",
    "## normalizing\n",
    "features = [\"Age\", \"Fare\"]\n",
    "xf[features] = (xf[features] - xf[features].mean()) / xf[features].std()\n",
    "print(xf.head())"
   ]
  },
  {
   "cell_type": "code",
   "execution_count": 28,
   "metadata": {},
   "outputs": [],
   "source": [
    "def sigmoid(x):\n",
    "    return 1 / (1 + np.exp(-x))\n",
    "\n",
    "def sigmoid_derivative(x):\n",
    "    return x * (1 - x)\n",
    "\n",
    "class FeedForwardNn:\n",
    "    '''\n",
    "    simples feed forward neural network. output has to be binary\n",
    "    (can be generalized to a multiclass classifier though)\n",
    "    '''\n",
    "    def __init__(self):\n",
    "        self.activation = sigmoid\n",
    "        self.activation_derivative = sigmoid_derivative\n",
    "        \n",
    "    def initialize(self, x, y, hiden_shape):\n",
    "        # input; np-like matrix; 1st index -- training example; 2nd index -- feature\n",
    "        self.x = x\n",
    "        # theoretical output; np-like vector; index -- training example\n",
    "        self.y = y.reshape((y.size, 1))\n",
    "        # list of sizes of all the layers (input, hidden, and output) has depth+2 elements\n",
    "        self.shape = [self.x.shape[1]] + list(hiden_shape) + [self.y.shape[1]]\n",
    "        self.depth = len(hiden_shape) # depth of the hidden layers\n",
    "        # list of weights; has depth+1 elements\n",
    "        self.weights = [np.random.rand(self.shape[l]+1, self.shape[l+1]) for l in range(self.depth+1)]\n",
    "        \n",
    "    def train(self, n_iter=100, reg=0, learning_rate=0.05):\n",
    "        # list of h values; has depth+2 elements\n",
    "        # the 1st feature is the constant feature which is never updated\n",
    "        self.h_arr = [np.ones((self.y.size, self.shape[l]+1)) for l in range(self.depth+2)]\n",
    "        self.h_arr[0][:,1:] = self.x\n",
    "        # training\n",
    "        for i in range(n_iter):\n",
    "            self.forward_propagate()\n",
    "            self.back_propagate(reg, learning_rate)\n",
    "        \n",
    "    def forward_propagate(self):\n",
    "        for l in range(self.depth+1):\n",
    "            self.h_arr[l+1][:,1:] = self.activation(self.h_arr[l] @ self.weights[l])\n",
    "        \n",
    "    def back_propagate(self, reg, learning_rate):\n",
    "        # error at the output layer\n",
    "        delta_1 = self.h_arr[-1][:,1:] - self.y\n",
    "        # propagation of the errors depper to the hidden layers\n",
    "        for l in range(self.depth+1):\n",
    "            delta_2 = (delta_1 @ self.weights[-l-1].T) * self.activation_derivative(self.h_arr[-l-2])\n",
    "            self.weights[-l-1] -= (self.h_arr[-l-2].T @ delta_1 / self.y.size +\n",
    "                                   reg * self.weights[-l-1]) * learning_rate\n",
    "            delta_1 = delta_2[:,1:]\n",
    "\n",
    "    def evaluate(self, x, y):\n",
    "        # reinitialize all the h vectors\n",
    "        self.h_arr = [np.ones((y.size, self.shape[l]+1)) for l in range(self.depth+2)]\n",
    "        self.h_arr[0][:,1:] = x\n",
    "        self.forward_propagate()\n",
    "        accuracy = (self.h_arr[-1][:,1:] < 0.5) ^ y.reshape((y.size, 1))\n",
    "        return accuracy.sum() / accuracy.size"
   ]
  },
  {
   "cell_type": "code",
   "execution_count": 29,
   "metadata": {},
   "outputs": [
    {
     "name": "stdout",
     "output_type": "stream",
     "text": [
      "880 out of 891\r"
     ]
    }
   ],
   "source": [
    "frac_train = 0.75\n",
    "m, n = xf.shape\n",
    "m1_arr = np.arange(5, m, 25)\n",
    "score_train_arr, score_test_arr = [], []\n",
    "\n",
    "for m1 in m1_arr:\n",
    "    print(\"\\r{0} out of {1}\".format(m1, m), end='\\r')\n",
    "    # randomly choosing samples\n",
    "    row_sampler = np.random.choice(m, m1, replace=False)\n",
    "    ynp_m1 = yf.loc[row_sampler].to_numpy()\n",
    "    xnp_m1 = xf.loc[row_sampler, :].to_numpy()\n",
    "    # splitting into train and test\n",
    "    m1_train = int(m1 * frac_train)\n",
    "    ynp_m1_train = ynp_m1[:m1_train]\n",
    "    xnp_m1_train = xnp_m1[:m1_train, :]\n",
    "    ynp_m1_test = ynp_m1[m1_train:m1]\n",
    "    xnp_m1_test = xnp_m1[m1_train:m1, :]\n",
    "    # training\n",
    "    ffnn = FeedForwardNn()\n",
    "    ffnn.initialize(xnp_m1_train, ynp_m1_train, [5])\n",
    "    ffnn.train(n_iter=2000, reg=0.01, learning_rate=0.2)\n",
    "    score_train_arr.append(ffnn.evaluate(xnp_m1_train, ynp_m1_train))\n",
    "    score_test_arr.append(ffnn.evaluate(xnp_m1_test, ynp_m1_test))"
   ]
  },
  {
   "cell_type": "code",
   "execution_count": 7,
   "metadata": {},
   "outputs": [
    {
     "data": {
      "image/png": "[encoded data removed]",
      "text/plain": [
       "<Figure size 432x288 with 1 Axes>"
      ]
     },
     "metadata": {
      "needs_background": "light"
     },
     "output_type": "display_data"
    },
    {
     "name": "stdout",
     "output_type": "stream",
     "text": [
      "0.7863636363636364\n"
     ]
    }
   ],
   "source": [
    "fig, fax = plt.subplots()\n",
    "fax.plot(m1_arr, score_train_arr, label=\"train\")\n",
    "fax.plot(m1_arr, score_test_arr, label=\"test\")\n",
    "plt.legend()\n",
    "plt.show()\n",
    "print(ffnn.evaluate(xnp_m1_test, ynp_m1_test))"
   ]
  },
  {
   "cell_type": "code",
   "execution_count": null,
   "metadata": {},
   "outputs": [],
   "source": []
  }
 ],
 "metadata": {
  "kernelspec": {
   "display_name": "Python (norm)",
   "language": "python",
   "name": "norm"
  },
  "language_info": {
   "codemirror_mode": {
    "name": "ipython",
    "version": 3
   },
   "file_extension": ".py",
   "mimetype": "text/x-python",
   "name": "python",
   "nbconvert_exporter": "python",
   "pygments_lexer": "ipython3",
   "version": "3.7.1"
  }
 },
 "nbformat": 4,
 "nbformat_minor": 2
}
