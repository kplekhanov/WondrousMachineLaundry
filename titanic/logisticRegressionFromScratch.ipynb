{
 "cells": [
  {
   "cell_type": "code",
   "execution_count": 17,
   "metadata": {},
   "outputs": [],
   "source": [
    "import numpy as np\n",
    "import pandas as pd\n",
    "import matplotlib.pyplot as plt\n",
    "import seaborn as sns\n",
    "%matplotlib inline\n",
    "\n",
    "def sigmoid(z):\n",
    "    return 1 / (1 + np.exp(-z))\n",
    "\n",
    "def getThetaGD(X, y, n_iter=400, alpha=1, reg=0):\n",
    "    \"\"\"find the solution (thetas) using the batch gradient descent\"\"\"\n",
    "    m, n = X.shape\n",
    "    theta = np.random.rand(n)\n",
    "    Xt = X.transpose()\n",
    "    for i in range(n_iter):\n",
    "        h = activation(X @ theta)\n",
    "        d_theta = Xt @ (h - y)\n",
    "        d_theta[1:] += reg * theta[1:]\n",
    "        d_theta /= m\n",
    "        theta -= d_theta * alpha\n",
    "    return theta\n",
    "\n",
    "def getCostShanon(X, y, theta, reg=0):\n",
    "    \"\"\"calculate the cost function as the Shanon entropy\"\"\"\n",
    "    m = X.shape[0]\n",
    "    h = activation(X @ theta)\n",
    "    J = -y @ np.log(h) - (1 - y) @ np.log(1 - h)\n",
    "    if reg != 0:\n",
    "        J += reg * (theta[1:] ** 2).sum() / 2\n",
    "    J /= m\n",
    "    return J"
   ]
  },
  {
   "cell_type": "code",
   "execution_count": 18,
   "metadata": {},
   "outputs": [
    {
     "name": "stdout",
     "output_type": "stream",
     "text": [
      "<class 'pandas.core.frame.DataFrame'>\n",
      "RangeIndex: 891 entries, 0 to 890\n",
      "Data columns (total 12 columns):\n",
      "PassengerId    891 non-null int64\n",
      "Survived       891 non-null int64\n",
      "Pclass         891 non-null int64\n",
      "Name           891 non-null object\n",
      "Sex            891 non-null object\n",
      "Age            714 non-null float64\n",
      "SibSp          891 non-null int64\n",
      "Parch          891 non-null int64\n",
      "Ticket         891 non-null object\n",
      "Fare           891 non-null float64\n",
      "Cabin          204 non-null object\n",
      "Embarked       889 non-null object\n",
      "dtypes: float64(2), int64(5), object(5)\n",
      "memory usage: 83.6+ KB\n"
     ]
    },
    {
     "data": {
      "text/plain": [
       "<matplotlib.legend.Legend at 0x7f581d688f98>"
      ]
     },
     "execution_count": 18,
     "metadata": {},
     "output_type": "execute_result"
    },
    {
     "data": {
      "image/png": "[encoded data removed]",
      "text/plain": [
       "<Figure size 432x288 with 1 Axes>"
      ]
     },
     "metadata": {
      "needs_background": "light"
     },
     "output_type": "display_data"
    }
   ],
   "source": [
    "## data analysis\n",
    "df = pd.read_csv(\"data/train.csv\")\n",
    "df.info()\n",
    "\n",
    "## plotting\n",
    "fig, fax = plt.subplots()\n",
    "z = df[df.loc[:,\"Survived\"] == 0][\"Age\"]\n",
    "sns.distplot(z[z.notna()], ax=fax, color=\"blue\", label='0')\n",
    "z = df[df.loc[:,\"Survived\"] == 1][\"Age\"]\n",
    "sns.distplot(z[z.notna()], ax=fax, color=\"red\", label='1')\n",
    "plt.legend()"
   ]
  },
  {
   "cell_type": "code",
   "execution_count": 23,
   "metadata": {},
   "outputs": [
    {
     "name": "stdout",
     "output_type": "stream",
     "text": [
      "(891, 11)\n"
     ]
    },
    {
     "data": {
      "image/png": "[encoded data removed]",
      "text/plain": [
       "<Figure size 432x288 with 1 Axes>"
      ]
     },
     "metadata": {
      "needs_background": "light"
     },
     "output_type": "display_data"
    }
   ],
   "source": [
    "## mapping strings to numbers and normalizing\n",
    "df.loc[:,\"Sex\"] = df.loc[:,\"Sex\"].map({\"male\":0, \"female\":1, 0:0, 1:1})\n",
    "df.loc[:,\"Embarked\"] = df.loc[:,\"Embarked\"].map({'C':0, 'S':1, 'Q':2, 0:0, 1:1, 2:2})\n",
    "\n",
    "## handling names\n",
    "titleDict = {\"Mr.\":0, \"Mrs.\":1, \"Miss.\":2, \"Master.\":3, \"Dr.\":4}\n",
    "for i_row, row in df.iterrows():\n",
    "    if isinstance(row[\"Name\"], int):\n",
    "        break\n",
    "    title = row[\"Name\"].split()[1]\n",
    "    if title in titleDict.keys():\n",
    "        df.loc[i_row,\"Name\"] = titleDict[title]\n",
    "    else:\n",
    "        df.loc[i_row,\"Name\"] = len(titleDict.keys())\n",
    "sns.countplot(x=\"Name\", data=df)\n",
    "        \n",
    "## handling nans\n",
    "df1 = df.drop(columns=[\"Cabin\"])\n",
    "df1 = df1.interpolate()\n",
    "#df1 = df1.dropna()\n",
    "print(df1.shape)\n",
    "\n",
    "## creating input and output dataframes\n",
    "yf = df1[\"Survived\"]\n",
    "features= [\"Pclass\", \"Name\", \"Sex\", \"Age\", \"SibSp\", \"Parch\", \"Fare\", \"Embarked\"]\n",
    "#features= [\"Pclass\", \"Sex\", \"Age\"]\n",
    "Xf = df1[features]\n",
    "\n",
    "## normalizing\n",
    "Xf_mean, Xf_std = Xf.mean(), Xf.std()\n",
    "Xf = (Xf - Xf_mean) / Xf_std\n",
    "Xf.insert(0, \"cst\", 1.)"
   ]
  },
  {
   "cell_type": "code",
   "execution_count": 20,
   "metadata": {},
   "outputs": [
    {
     "name": "stdout",
     "output_type": "stream",
     "text": [
      "100\n",
      "115\n",
      "130\n",
      "145\n",
      "160\n",
      "175\n",
      "190\n",
      "205\n",
      "220\n",
      "235\n",
      "250\n",
      "265\n",
      "280\n",
      "295\n",
      "310\n",
      "325\n",
      "340\n",
      "355\n",
      "370\n",
      "385\n",
      "400\n",
      "415\n",
      "430\n",
      "445\n",
      "460\n",
      "475\n",
      "490\n",
      "505\n",
      "520\n",
      "535\n",
      "550\n",
      "565\n",
      "580\n",
      "595\n",
      "610\n",
      "625\n",
      "640\n",
      "655\n",
      "670\n",
      "685\n",
      "700\n",
      "715\n",
      "730\n",
      "745\n",
      "760\n",
      "775\n",
      "790\n",
      "805\n",
      "820\n",
      "835\n",
      "850\n",
      "865\n",
      "880\n"
     ]
    }
   ],
   "source": [
    "activation = sigmoid\n",
    "n_iter = 1000\n",
    "alpha = 0.1\n",
    "reg = 10\n",
    "frac_train = 0.8\n",
    "m, n = Xf.shape\n",
    "\n",
    "## gradient descent\n",
    "m1_arr = np.arange(100, m, 15)\n",
    "J_train_arr = []\n",
    "J_test_arr = []\n",
    "for m1 in m1_arr:\n",
    "    print(m1)\n",
    "    m1_train = int(m1 * frac_train)\n",
    "    ynp_train = yf.loc[:m1_train].to_numpy()\n",
    "    Xnp_train = Xf.loc[:m1_train,:].to_numpy()\n",
    "    ynp_test = yf.loc[m1_train:m1].to_numpy()\n",
    "    Xnp_test = Xf.loc[m1_train:m1,:].to_numpy()\n",
    "    theta = getThetaGD(Xnp_train, ynp_train, n_iter, alpha, reg)\n",
    "    J_train_arr.append(getCostShanon(Xnp_train, ynp_train, theta, reg))\n",
    "    J_test_arr.append(getCostShanon(Xnp_test, ynp_test, theta, reg=0))"
   ]
  },
  {
   "cell_type": "code",
   "execution_count": 21,
   "metadata": {},
   "outputs": [
    {
     "data": {
      "image/png": "[encoded data removed]",
      "text/plain": [
       "<Figure size 432x288 with 1 Axes>"
      ]
     },
     "metadata": {
      "needs_background": "light"
     },
     "output_type": "display_data"
    }
   ],
   "source": [
    "fig, fax = plt.subplots()\n",
    "fax.plot(m1_arr, J_train_arr, label=\"train\")\n",
    "fax.plot(m1_arr, J_test_arr, label=\"test\")\n",
    "plt.legend()\n",
    "plt.show()"
   ]
  },
  {
   "cell_type": "code",
   "execution_count": 36,
   "metadata": {},
   "outputs": [
    {
     "name": "stdout",
     "output_type": "stream",
     "text": [
      "0.8\n",
      "0.8248587570621468\n"
     ]
    }
   ],
   "source": [
    "hnp_train = activation(Xnp_train @ theta)\n",
    "print(((hnp_train < 0.5) ^ ynp_train).sum() / ((hnp_train < 0.5) ^ ynp_train).size)\n",
    "hnp_test = activation(Xnp_test @ theta)\n",
    "print(((hnp_test < 0.5) ^ ynp_test).sum() / ((hnp_test < 0.5) ^ ynp_test).size)"
   ]
  },
  {
   "cell_type": "code",
   "execution_count": null,
   "metadata": {},
   "outputs": [],
   "source": []
  }
 ],
 "metadata": {
  "kernelspec": {
   "display_name": "Python (norm)",
   "language": "python",
   "name": "norm"
  },
  "language_info": {
   "codemirror_mode": {
    "name": "ipython",
    "version": 3
   },
   "file_extension": ".py",
   "mimetype": "text/x-python",
   "name": "python",
   "nbconvert_exporter": "python",
   "pygments_lexer": "ipython3",
   "version": "3.7.1"
  }
 },
 "nbformat": 4,
 "nbformat_minor": 2
}
